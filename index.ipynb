{
 "cells": [
  {
   "cell_type": "markdown",
   "id": "c70b7d20",
   "metadata": {},
   "source": [
    "### Notebooks"
   ]
  },
  {
   "cell_type": "markdown",
   "id": "b11fd145",
   "metadata": {},
   "source": [
    "<a href=\"https://colab.research.google.com/github/paulaceccon//Users/paulaceccon/Documents/GitHub/deep-learning-studies/blob/main/index.ipynb\" target=\"_parent\" style=\"float: left;\"><img src=\"https://colab.research.google.com/assets/colab-badge.svg\" alt=\"Open In Colab\"/></a>"
   ]
  },
  {
   "cell_type": "markdown",
   "id": "b39392c9",
   "metadata": {},
   "source": [
    "- Notebooks\n",
    "\t- Transformers\n",
    "\t\t- [Tranformer Architecture](./notebooks/transformers/tranformer_architecture.ipynb)\n",
    "\t- Generative Models\n",
    "\t\t- Autoencoders\n",
    "\t\t\t- [Autoencoder](./notebooks/generative_models/autoencoders/autoencoder.ipynb)\n",
    "\t\t\t- [CNN Autoencoder](./notebooks/generative_models/autoencoders/cnn_autoencoder.ipynb)\n",
    "\t\t\t- [Variational Autoencoder](./notebooks/generative_models/autoencoders/variational_autoencoder.ipynb)\n",
    "\t\t- GANS\n",
    "\t\t\t- [DCGAN](./notebooks/generative_models/gans/dcgan.ipynb)\n",
    "\t\t\t- [CGAN](./notebooks/generative_models/gans/cgan.ipynb)\n",
    "\t\t\t- [Cycle GAN](./notebooks/generative_models/gans/cycle_gan.ipynb)\n",
    "\t\t\t- [WGAN Gp](./notebooks/generative_models/gans/wgan_gp.ipynb)"
   ]
  }
 ],
 "metadata": {},
 "nbformat": 4,
 "nbformat_minor": 5
}
