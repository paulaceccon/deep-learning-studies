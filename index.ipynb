{
 "cells": [
  {
   "cell_type": "markdown",
   "id": "b231804a",
   "metadata": {},
   "source": [
    "### Notebooks"
   ]
  },
  {
   "cell_type": "markdown",
   "id": "efedf6b3",
   "metadata": {},
   "source": [
    "<a href=\"https://colab.research.google.com/github/paulaceccon//Users/paulacecconribeiro/Documents/Projects/deep-learning-studies/blob/main/index.ipynb\" target=\"_parent\" style=\"float: left;\"><img src=\"https://colab.research.google.com/assets/colab-badge.svg\" alt=\"Open In Colab\"/></a>"
   ]
  },
  {
   "cell_type": "markdown",
   "id": "b6f4274e",
   "metadata": {},
   "source": [
    "- Notebooks\n",
    "\t- Generative Models\n",
    "\t\t- Decoding Methods\n",
    "\t\t\t- [Decoding Methods](./notebooks/generative_models/decoding_methods/decoding_methods.ipynb)\n",
    "\t\t- Diffusion Models\n",
    "\t\t\t- [DDPM Scheduler](./notebooks/generative_models/diffusion_models/ddpm_scheduler.ipynb)\n",
    "\t\t\t- [DDIM](./notebooks/generative_models/diffusion_models/ddim.ipynb)\n",
    "\t\t\t- [DDPM Speed](./notebooks/generative_models/diffusion_models/ddpm_speed.ipynb)\n",
    "\t\t\t- [DDPM](./notebooks/generative_models/diffusion_models/ddpm.ipynb)\n",
    "\t\t- Transformers\n",
    "\t\t\t- [Transformer Architecture](./notebooks/generative_models/transformers/transformer_architecture.ipynb)\n",
    "\t\t\t- [Transformer Basics](./notebooks/generative_models/transformers/transformer_basics.ipynb)\n",
    "\t\t- Autoencoders\n",
    "\t\t\t- [Autoencoder](./notebooks/generative_models/autoencoders/autoencoder.ipynb)\n",
    "\t\t\t- [CNN Autoencoder](./notebooks/generative_models/autoencoders/cnn_autoencoder.ipynb)\n",
    "\t\t\t- [Variational Autoencoder](./notebooks/generative_models/autoencoders/variational_autoencoder.ipynb)\n",
    "\t\t- GANS\n",
    "\t\t\t- [DCGAN](./notebooks/generative_models/gans/dcgan.ipynb)\n",
    "\t\t\t- [CGAN](./notebooks/generative_models/gans/cgan.ipynb)\n",
    "\t\t\t- [Cycle GAN](./notebooks/generative_models/gans/cycle_gan.ipynb)\n",
    "\t\t\t- [WGAN Gp](./notebooks/generative_models/gans/wgan_gp.ipynb)"
   ]
  }
 ],
 "metadata": {},
 "nbformat": 4,
 "nbformat_minor": 5
}
