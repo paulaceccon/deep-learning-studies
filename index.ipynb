{
 "cells": [
  {
   "cell_type": "markdown",
   "id": "8f97083d",
   "metadata": {},
   "source": [
    "### Notebooks"
   ]
  },
  {
   "cell_type": "markdown",
   "id": "8ffcd624",
   "metadata": {},
   "source": [
    "<a href=\"https://colab.research.google.com/github/paulaceccon//Users/paulacecconribeiro/Documents/Projects/deep-learning-studies/blob/main/index.ipynb\" target=\"_parent\" style=\"float: left;\"><img src=\"https://colab.research.google.com/assets/colab-badge.svg\" alt=\"Open In Colab\"/></a>"
   ]
  },
  {
   "cell_type": "markdown",
   "id": "123d7daf",
   "metadata": {},
   "source": [
    "- Notebooks\n",
    "\t- Generative Models\n",
    "\t\t- Autoencoders\n",
    "\t\t\t- [Autoencoder](./notebooks/generative_models/autoencoders/autoencoder.ipynb)\n",
    "\t\t\t- [Cnn Autoencoder](./notebooks/generative_models/autoencoders/cnn_autoencoder.ipynb)\n",
    "\t\t\t- [Variational Autoencoder](./notebooks/generative_models/autoencoders/variational_autoencoder.ipynb)"
   ]
  }
 ],
 "metadata": {},
 "nbformat": 4,
 "nbformat_minor": 5
}
