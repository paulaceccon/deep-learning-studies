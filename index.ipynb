{
 "cells": [
  {
   "cell_type": "markdown",
   "id": "d543d643",
   "metadata": {},
   "source": [
    "### Notebooks"
   ]
  },
  {
   "cell_type": "markdown",
   "id": "6ea66530",
   "metadata": {},
   "source": [
    "<a href=\"https://colab.research.google.com/github/paulaceccon//Users/paulacecconribeiro/Documents/Projects/deep-learning-studies/blob/main/index.ipynb\" target=\"_parent\" style=\"float: left;\"><img src=\"https://colab.research.google.com/assets/colab-badge.svg\" alt=\"Open In Colab\"/></a>"
   ]
  },
  {
   "cell_type": "markdown",
   "id": "db7f94c3",
   "metadata": {},
   "source": [
    " - Generative Models\n",
    "\t - Autoencoders\n",
    "\t\t- [Autoencoder](notebooks/generative_models/autoencoders/autoencoder.ipynb)"
   ]
  }
 ],
 "metadata": {},
 "nbformat": 4,
 "nbformat_minor": 5
}
