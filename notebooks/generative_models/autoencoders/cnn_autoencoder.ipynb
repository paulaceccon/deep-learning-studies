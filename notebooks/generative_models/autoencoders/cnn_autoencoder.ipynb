{
 "cells": [
  {
   "cell_type": "markdown",
   "id": "59f502d9",
   "metadata": {},
   "source": [
    "### Convolutional Autoencoders - Image Denoising\n",
    "\n",
    "#### References\n",
    "- [Building autoencoders in Keras](https://blog.keras.io/building-autoencoders-in-keras.html)\n",
    "- [Convolutional autoencoder for image denoising](https://keras.io/examples/vision/autoencoder/)\n",
    "- [TF Intro to autoencoders](https://www.tensorflow.org/tutorials/generative/autoencoder)\n",
    "\n",
    "<a href=\"https://colab.research.google.com/github/paulaceccon/deep-learning-studies/blob/main/notebooks/generative_models/autoencoders/cnn_autoencoder.ipynb\" target=\"_parent\" style=\"float: left;\"><img src=\"https://colab.research.google.com/assets/colab-badge.svg\" alt=\"Open In Colab\"/></a>"
   ]
  },
  {
   "cell_type": "code",
   "execution_count": 1,
   "id": "210fb108",
   "metadata": {
    "ExecuteTime": {
     "end_time": "2022-03-02T21:46:40.069541Z",
     "start_time": "2022-03-02T21:46:33.998559Z"
    }
   },
   "outputs": [],
   "source": [
    "import datetime\n",
    "import os\n",
    "\n",
    "import matplotlib.pyplot as plt\n",
    "import numpy as np\n",
    "from tensorflow.keras import Input, Model, Sequential\n",
    "from tensorflow.keras.callbacks import EarlyStopping, TensorBoard\n",
    "from tensorflow.keras.datasets import mnist\n",
    "from tensorflow.keras.layers import Conv2D, MaxPooling2D, UpSampling2D\n",
    "\n",
    "%load_ext tensorboard"
   ]
  },
  {
   "cell_type": "markdown",
   "id": "b4a49e75",
   "metadata": {},
   "source": [
    "![alt-text](https://blog.keras.io/img/ae/autoencoder_schema.jpg)"
   ]
  },
  {
   "cell_type": "markdown",
   "id": "1ab4219c",
   "metadata": {},
   "source": [
    "### Load the dataset"
   ]
  },
  {
   "cell_type": "code",
   "execution_count": 2,
   "id": "92f20206",
   "metadata": {
    "ExecuteTime": {
     "end_time": "2022-03-02T21:46:40.074865Z",
     "start_time": "2022-03-02T21:46:40.071155Z"
    }
   },
   "outputs": [],
   "source": [
    "def preprocess(data: np.array) -> np.ndarray:\n",
    "    data = data.astype(\"float32\") / 255.0\n",
    "    data = np.reshape(data, (len(data), 28, 28, 1))\n",
    "    return data"
   ]
  },
  {
   "cell_type": "code",
   "execution_count": 3,
   "id": "d97b9aa9",
   "metadata": {
    "ExecuteTime": {
     "end_time": "2022-03-02T21:46:40.079643Z",
     "start_time": "2022-03-02T21:46:40.076600Z"
    }
   },
   "outputs": [],
   "source": [
    "def noise(data: np.ndarray) -> np.ndarray:\n",
    "    noise_factor = 0.4\n",
    "    noisy_data = data + noise_factor * np.random.normal(\n",
    "        loc=0.0, scale=1.0, size=data.shape\n",
    "    )\n",
    "\n",
    "    return np.clip(noisy_data, 0.0, 1.0)"
   ]
  },
  {
   "cell_type": "code",
   "execution_count": 4,
   "id": "8a6dd7c9",
   "metadata": {
    "ExecuteTime": {
     "end_time": "2022-03-02T21:46:42.115606Z",
     "start_time": "2022-03-02T21:46:40.081832Z"
    }
   },
   "outputs": [
    {
     "name": "stdout",
     "output_type": "stream",
     "text": [
      "(60000, 28, 28, 1)\n",
      "(10000, 28, 28, 1)\n"
     ]
    }
   ],
   "source": [
    "(x_train, y_train), (x_test, _) = mnist.load_data()\n",
    "x_train = preprocess(x_train)\n",
    "x_test = preprocess(x_test)\n",
    "noisy_train_data = noise(x_train)\n",
    "noisy_test_data = noise(x_test)\n",
    "\n",
    "print(x_train.shape)\n",
    "print(x_test.shape)"
   ]
  },
  {
   "cell_type": "markdown",
   "id": "fe74d0d9",
   "metadata": {},
   "source": [
    "### Visualization"
   ]
  },
  {
   "cell_type": "code",
   "execution_count": 5,
   "id": "9787ed88",
   "metadata": {
    "ExecuteTime": {
     "end_time": "2022-03-02T21:46:42.128779Z",
     "start_time": "2022-03-02T21:46:42.117469Z"
    }
   },
   "outputs": [],
   "source": [
    "def plot_figures(original: np.ndarray, decoded: np.ndarray) -> None:\n",
    "    n = 10\n",
    "    plt.figure(figsize=(20, 4))\n",
    "    for i in range(n):\n",
    "        # display original\n",
    "        ax = plt.subplot(2, n, i + 1)\n",
    "        plt.imshow(original[i].reshape(28, 28))\n",
    "        plt.gray()\n",
    "        ax.get_xaxis().set_visible(False)\n",
    "        ax.get_yaxis().set_visible(False)\n",
    "\n",
    "        # display reconstruction\n",
    "        ax = plt.subplot(2, n, i + 1 + n)\n",
    "        plt.imshow(decoded_imgs[i].reshape(28, 28))\n",
    "        plt.gray()\n",
    "        ax.get_xaxis().set_visible(False)\n",
    "        ax.get_yaxis().set_visible(False)"
   ]
  },
  {
   "cell_type": "code",
   "execution_count": 6,
   "id": "df694419",
   "metadata": {
    "ExecuteTime": {
     "end_time": "2022-03-02T21:46:42.134884Z",
     "start_time": "2022-03-02T21:46:42.131011Z"
    }
   },
   "outputs": [],
   "source": [
    "def plot_encoded(encoded: np.ndarray) -> None:\n",
    "    n = 10\n",
    "    plt.figure(figsize=(20, 8))\n",
    "    for i in range(1, n + 1):\n",
    "        ax = plt.subplot(1, n, i)\n",
    "        plt.imshow(encoded_imgs[i].reshape((4, 4 * 8)).T)\n",
    "        plt.gray()\n",
    "        ax.get_xaxis().set_visible(False)\n",
    "        ax.get_yaxis().set_visible(False)"
   ]
  },
  {
   "cell_type": "markdown",
   "id": "22b27ed4",
   "metadata": {},
   "source": [
    "### Model"
   ]
  },
  {
   "cell_type": "code",
   "execution_count": 8,
   "id": "6a78ed53",
   "metadata": {
    "ExecuteTime": {
     "end_time": "2022-03-02T21:46:42.146777Z",
     "start_time": "2022-03-02T21:46:42.142267Z"
    }
   },
   "outputs": [],
   "source": [
    "class Encoder(Model):\n",
    "    def __init__(self):\n",
    "        super().__init__(name=\"encoder\")\n",
    "        self.encoder = Sequential(\n",
    "            [\n",
    "                Input(shape=(28, 28, 1)),\n",
    "                Conv2D(16, (3, 3), activation=\"relu\", padding=\"same\"),\n",
    "                MaxPooling2D((2, 2), padding=\"same\"),\n",
    "                Conv2D(8, (3, 3), activation=\"relu\", padding=\"same\"),\n",
    "                MaxPooling2D((2, 2), padding=\"same\"),\n",
    "                Conv2D(8, (3, 3), activation=\"relu\", padding=\"same\"),\n",
    "                MaxPooling2D((2, 2), padding=\"same\"),\n",
    "            ]\n",
    "        )\n",
    "\n",
    "    def call(self, inputs):\n",
    "        return self.encoder(inputs)"
   ]
  },
  {
   "cell_type": "code",
   "execution_count": 9,
   "id": "136c1d27",
   "metadata": {
    "ExecuteTime": {
     "end_time": "2022-03-02T21:46:42.153842Z",
     "start_time": "2022-03-02T21:46:42.148736Z"
    }
   },
   "outputs": [],
   "source": [
    "class Decoder(Model):\n",
    "    def __init__(self):\n",
    "        super().__init__(name=\"decoder\")\n",
    "        self.decoder = Sequential(\n",
    "            [\n",
    "                Conv2D(8, (3, 3), activation=\"relu\", padding=\"same\"),\n",
    "                UpSampling2D((2, 2)),\n",
    "                Conv2D(8, (3, 3), activation=\"relu\", padding=\"same\"),\n",
    "                UpSampling2D((2, 2)),\n",
    "                Conv2D(16, (3, 3), activation=\"relu\"),\n",
    "                UpSampling2D((2, 2)),\n",
    "                Conv2D(1, (3, 3), activation=\"sigmoid\", padding=\"same\"),\n",
    "            ]\n",
    "        )\n",
    "\n",
    "    def call(self, inputs):\n",
    "        return self.decoder(inputs)"
   ]
  },
  {
   "cell_type": "code",
   "execution_count": 10,
   "id": "0c16db80",
   "metadata": {
    "ExecuteTime": {
     "end_time": "2022-03-02T21:46:42.161666Z",
     "start_time": "2022-03-02T21:46:42.157851Z"
    }
   },
   "outputs": [],
   "source": [
    "class Autoencoder(Model):\n",
    "    \"\"\"Implements a basic convolutional autoencoder.\"\"\"\n",
    "\n",
    "    def __init__(self, name: str = \"autoencoder\"):\n",
    "        super().__init__(name=name)\n",
    "        self.encoder = Encoder()\n",
    "        self.decoder = Decoder()\n",
    "\n",
    "    def call(self, inputs: np.ndarray):\n",
    "        encoded = self.encoder(inputs)\n",
    "        decoded = self.decoder(encoded)\n",
    "        return decoded"
   ]
  },
  {
   "cell_type": "markdown",
   "id": "23feb71c",
   "metadata": {},
   "source": [
    "### Training"
   ]
  },
  {
   "cell_type": "code",
   "execution_count": 11,
   "id": "fb412235",
   "metadata": {
    "ExecuteTime": {
     "end_time": "2022-03-02T21:46:42.167371Z",
     "start_time": "2022-03-02T21:46:42.163586Z"
    }
   },
   "outputs": [],
   "source": [
    "def train_model(train_data: np.ndarray, test_data: np.ndarray) -> Autoencoder:\n",
    "    logdir = os.path.join(\"logs\", datetime.datetime.now().strftime(\"%Y%m%d-%H%M%S\"))\n",
    "    tensorboard_callback = TensorBoard(logdir, histogram_freq=1)\n",
    "\n",
    "    autoencoder = Autoencoder()\n",
    "    autoencoder.compile(optimizer=\"adam\", loss=\"binary_crossentropy\")\n",
    "    autoencoder.fit(\n",
    "        train_data,\n",
    "        train_data,\n",
    "        epochs=100,\n",
    "        batch_size=128,\n",
    "        shuffle=True,\n",
    "        validation_data=(test_data, test_data),\n",
    "        verbose=0,\n",
    "        callbacks=[EarlyStopping(patience=5), tensorboard_callback],\n",
    "    )\n",
    "    return autoencoder"
   ]
  },
  {
   "cell_type": "code",
   "execution_count": 12,
   "id": "95fe3f63",
   "metadata": {
    "ExecuteTime": {
     "end_time": "2022-03-02T21:46:42.178325Z",
     "start_time": "2022-03-02T21:46:42.169142Z"
    }
   },
   "outputs": [
    {
     "data": {
      "text/plain": [
       "Reusing TensorBoard on port 6006 (pid 7472), started 2:42:14 ago. (Use '!kill 7472' to kill it.)"
      ]
     },
     "metadata": {},
     "output_type": "display_data"
    },
    {
     "data": {
      "text/html": [
       "\n",
       "      <iframe id=\"tensorboard-frame-6172fc869db2022c\" width=\"100%\" height=\"800\" frameborder=\"0\">\n",
       "      </iframe>\n",
       "      <script>\n",
       "        (function() {\n",
       "          const frame = document.getElementById(\"tensorboard-frame-6172fc869db2022c\");\n",
       "          const url = new URL(\"/\", window.location);\n",
       "          const port = 6006;\n",
       "          if (port) {\n",
       "            url.port = port;\n",
       "          }\n",
       "          frame.src = url;\n",
       "        })();\n",
       "      </script>\n",
       "    "
      ],
      "text/plain": [
       "<IPython.core.display.HTML object>"
      ]
     },
     "metadata": {},
     "output_type": "display_data"
    }
   ],
   "source": [
    "%tensorboard --logdir logs"
   ]
  },
  {
   "cell_type": "code",
   "execution_count": 13,
   "id": "5ecd73c8",
   "metadata": {
    "ExecuteTime": {
     "end_time": "2022-03-02T22:37:00.274195Z",
     "start_time": "2022-03-02T21:46:42.179562Z"
    }
   },
   "outputs": [
    {
     "name": "stderr",
     "output_type": "stream",
     "text": [
      "2022-03-02 18:46:42.185999: I tensorflow/core/platform/cpu_feature_guard.cc:151] This TensorFlow binary is optimized with oneAPI Deep Neural Network Library (oneDNN) to use the following CPU instructions in performance-critical operations:  AVX2 FMA\n",
      "To enable them in other operations, rebuild TensorFlow with the appropriate compiler flags.\n"
     ]
    }
   ],
   "source": [
    "autoencoder = train_model(noisy_train_data, noisy_test_data)"
   ]
  },
  {
   "cell_type": "code",
   "execution_count": 14,
   "id": "bfde8ec5",
   "metadata": {
    "ExecuteTime": {
     "end_time": "2022-03-02T22:37:00.288301Z",
     "start_time": "2022-03-02T22:37:00.277877Z"
    }
   },
   "outputs": [
    {
     "name": "stdout",
     "output_type": "stream",
     "text": [
      "Model: \"autoencoder\"\n",
      "_________________________________________________________________\n",
      " Layer (type)                Output Shape              Param #   \n",
      "=================================================================\n",
      " encoder (Encoder)           multiple                  1904      \n",
      "                                                                 \n",
      " decoder (Decoder)           multiple                  2481      \n",
      "                                                                 \n",
      "=================================================================\n",
      "Total params: 4,385\n",
      "Trainable params: 4,385\n",
      "Non-trainable params: 0\n",
      "_________________________________________________________________\n"
     ]
    }
   ],
   "source": [
    "autoencoder.summary()"
   ]
  },
  {
   "cell_type": "code",
   "execution_count": 15,
   "id": "e3e1aeea",
   "metadata": {
    "ExecuteTime": {
     "end_time": "2022-03-02T22:37:02.402922Z",
     "start_time": "2022-03-02T22:37:00.289662Z"
    }
   },
   "outputs": [
    {
     "data": {
      "image/png": "[encoded data removed]",
      "text/plain": [
       "<Figure size 1440x288 with 20 Axes>"
      ]
     },
     "metadata": {
      "needs_background": "light"
     },
     "output_type": "display_data"
    }
   ],
   "source": [
    "decoded_imgs = autoencoder.predict(noisy_test_data)\n",
    "plot_figures(noisy_test_data, decoded_imgs)"
   ]
  },
  {
   "cell_type": "code",
   "execution_count": 18,
   "id": "80b177bd",
   "metadata": {
    "ExecuteTime": {
     "end_time": "2022-03-02T23:10:04.706731Z",
     "start_time": "2022-03-02T23:10:03.846964Z"
    }
   },
   "outputs": [
    {
     "data": {
      "image/png": "[encoded data removed]",
      "text/plain": [
       "<Figure size 1440x576 with 10 Axes>"
      ]
     },
     "metadata": {
      "needs_background": "light"
     },
     "output_type": "display_data"
    }
   ],
   "source": [
    "encoded_imgs = autoencoder.encoder.predict(noisy_test_data)\n",
    "plot_encoded(encoded_imgs)"
   ]
  }
 ],
 "metadata": {
  "kernelspec": {
   "display_name": "Python 3 (ipykernel)",
   "language": "python",
   "name": "python3"
  },
  "language_info": {
   "codemirror_mode": {
    "name": "ipython",
    "version": 3
   },
   "file_extension": ".py",
   "mimetype": "text/x-python",
   "name": "python",
   "nbconvert_exporter": "python",
   "pygments_lexer": "ipython3",
   "version": "3.9.9"
  },
  "toc": {
   "base_numbering": 1,
   "nav_menu": {},
   "number_sections": false,
   "sideBar": true,
   "skip_h1_title": true,
   "title_cell": "Table of Contents",
   "title_sidebar": "Contents",
   "toc_cell": false,
   "toc_position": {},
   "toc_section_display": true,
   "toc_window_display": true
  }
 },
 "nbformat": 4,
 "nbformat_minor": 5
}
