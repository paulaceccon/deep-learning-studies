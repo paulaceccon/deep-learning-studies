{
 "cells": [
  {
   "cell_type": "markdown",
   "id": "59f502d9",
   "metadata": {},
   "source": [
    "### Autoencoders\n",
    "\n",
    "#### References\n",
    "- [Building autoencoders in Keras](https://blog.keras.io/building-autoencoders-in-keras.html)\n",
    "- [TF Intro to autoencoders](https://www.tensorflow.org/tutorials/generative/autoencoder)\n",
    "\n",
    "<a href=\"https://colab.research.google.com/github/paulaceccon/dl-from-scratch/blob/main/name.ipynb\" target=\"_parent\" style=\"float: left;\"><img src=\"https://colab.research.google.com/assets/colab-badge.svg\" alt=\"Open In Colab\"/></a>"
   ]
  },
  {
   "cell_type": "code",
   "execution_count": 1,
   "id": "210fb108",
   "metadata": {
    "ExecuteTime": {
     "end_time": "2022-02-18T23:17:20.084245Z",
     "start_time": "2022-02-18T23:17:15.562862Z"
    }
   },
   "outputs": [],
   "source": [
    "from tensorflow.keras import layers, Model, Input, Sequential, losses\n",
    "from tensorflow.keras.layers import Conv2D, MaxPooling2D, UpSampling2D\n",
    "from tensorflow.keras.datasets import mnist\n",
    "from tensorflow.keras.callbacks import TensorBoard, EarlyStopping\n",
    "import matplotlib.pyplot as plt\n",
    "import numpy as np\n",
    "import datetime\n",
    "import os\n",
    "\n",
    "%load_ext tensorboard"
   ]
  },
  {
   "cell_type": "markdown",
   "id": "b4a49e75",
   "metadata": {},
   "source": [
    "![alt-text](https://blog.keras.io/img/ae/autoencoder_schema.jpg)"
   ]
  },
  {
   "cell_type": "markdown",
   "id": "c9b7f8d0",
   "metadata": {},
   "source": [
    "An **autoencoder** consists of input, hidden (bottleneck), and output layers.\n",
    "\n",
    "1. Encoder:\n",
    "Maps the input data to the network's internal representation.\n",
    "\n",
    "2. Decoder:\n",
    "Tries to reconstruct the input from the network's internal data representation.\n",
    "  \n",
    "  \n",
    "The network is trained to find weights for the encoder and decoder that minimize the loss between the original input and the reconstruction of the input after it has passed through the encoder and decoder.\n",
    " \n",
    "- Applications: \n",
    "    - Dimensionality Reduction\n",
    "    - Feature Extraction\n",
    "    - Image Denoising\n",
    "    - Image Compression\n",
    "    - Image Search\n",
    "    - Anomaly Detection\n",
    "    - Missing Value Imputation"
   ]
  },
  {
   "cell_type": "markdown",
   "id": "1ab4219c",
   "metadata": {},
   "source": [
    "### Load the dataset"
   ]
  },
  {
   "cell_type": "code",
   "execution_count": 2,
   "id": "8a6dd7c9",
   "metadata": {
    "ExecuteTime": {
     "end_time": "2022-02-18T23:17:20.359704Z",
     "start_time": "2022-02-18T23:17:20.086629Z"
    }
   },
   "outputs": [
    {
     "name": "stdout",
     "output_type": "stream",
     "text": [
      "(60000, 28, 28, 1)\n",
      "(10000, 28, 28, 1)\n"
     ]
    }
   ],
   "source": [
    "(x_train, _), (x_test, _) = mnist.load_data()\n",
    "x_train = x_train.astype('float32') / 255.\n",
    "x_test = x_test.astype('float32') / 255.\n",
    "x_train = np.reshape(x_train, (len(x_train), 28, 28, 1))\n",
    "x_test = np.reshape(x_test, (len(x_test), 28, 28, 1))\n",
    "\n",
    "print(x_train.shape)\n",
    "print(x_test.shape)"
   ]
  },
  {
   "cell_type": "markdown",
   "id": "fe74d0d9",
   "metadata": {},
   "source": [
    "### Visualization"
   ]
  },
  {
   "cell_type": "code",
   "execution_count": 3,
   "id": "9787ed88",
   "metadata": {
    "ExecuteTime": {
     "end_time": "2022-02-18T23:17:20.368483Z",
     "start_time": "2022-02-18T23:17:20.363244Z"
    }
   },
   "outputs": [],
   "source": [
    "def plot_figures(original: np.ndarray, decoded:np.ndarray) -> None:\n",
    "    n = 10  \n",
    "    plt.figure(figsize=(20, 4))\n",
    "    for i in range(n):\n",
    "        # display original\n",
    "        ax = plt.subplot(2, n, i + 1)\n",
    "        plt.imshow(original[i].reshape(28, 28))\n",
    "        plt.gray()\n",
    "        ax.get_xaxis().set_visible(False)\n",
    "        ax.get_yaxis().set_visible(False)\n",
    "\n",
    "        # display reconstruction\n",
    "        ax = plt.subplot(2, n, i + 1 + n)\n",
    "        plt.imshow(decoded_imgs[i].reshape(28, 28))\n",
    "        plt.gray()\n",
    "        ax.get_xaxis().set_visible(False)\n",
    "        ax.get_yaxis().set_visible(False)"
   ]
  },
  {
   "cell_type": "code",
   "execution_count": 4,
   "id": "df694419",
   "metadata": {
    "ExecuteTime": {
     "end_time": "2022-02-18T23:17:20.375430Z",
     "start_time": "2022-02-18T23:17:20.371488Z"
    }
   },
   "outputs": [],
   "source": [
    "def plot_encoded(encoded: np.ndarray) -> None:\n",
    "    n = 10\n",
    "    plt.figure(figsize=(20, 8))\n",
    "    for i in range(1, n + 1):\n",
    "        ax = plt.subplot(1, n, i)\n",
    "        plt.imshow(encoded_imgs[i].reshape((4, 4 * 8)).T)\n",
    "        plt.gray()\n",
    "        ax.get_xaxis().set_visible(False)\n",
    "        ax.get_yaxis().set_visible(False)"
   ]
  },
  {
   "cell_type": "markdown",
   "id": "22b27ed4",
   "metadata": {},
   "source": [
    "### Model"
   ]
  },
  {
   "cell_type": "code",
   "execution_count": 5,
   "id": "6a78ed53",
   "metadata": {
    "ExecuteTime": {
     "end_time": "2022-02-18T23:17:20.382353Z",
     "start_time": "2022-02-18T23:17:20.377741Z"
    }
   },
   "outputs": [],
   "source": [
    "class Encoder(Model):\n",
    "    \n",
    "    def __init__(self):\n",
    "        super(Encoder, self).__init__(name=\"encoder\")\n",
    "        self.encoder = Sequential([\n",
    "            Input(shape=(28, 28, 1)),\n",
    "            Conv2D(16, (3, 3), activation='relu', padding='same'),\n",
    "            MaxPooling2D((2, 2), padding='same'),\n",
    "            Conv2D(8, (3, 3), activation='relu', padding='same'),\n",
    "            MaxPooling2D((2, 2), padding='same'),\n",
    "            Conv2D(8, (3, 3), activation='relu', padding='same'),\n",
    "            MaxPooling2D((2, 2), padding='same')\n",
    "        ])\n",
    "        \n",
    "    def call(self, inputs):\n",
    "        return self.encoder(inputs)"
   ]
  },
  {
   "cell_type": "code",
   "execution_count": 6,
   "id": "136c1d27",
   "metadata": {
    "ExecuteTime": {
     "end_time": "2022-02-18T23:17:20.388198Z",
     "start_time": "2022-02-18T23:17:20.383855Z"
    }
   },
   "outputs": [],
   "source": [
    "class Decoder(Model):\n",
    "    \n",
    "    def __init__(self):\n",
    "        super(Decoder, self).__init__(name=\"decoder\")\n",
    "        self.decoder = Sequential([\n",
    "            Conv2D(8, (3, 3), activation='relu', padding='same'),\n",
    "            UpSampling2D((2, 2)),\n",
    "            Conv2D(8, (3, 3), activation='relu', padding='same'),\n",
    "            UpSampling2D((2, 2)),\n",
    "            Conv2D(16, (3, 3), activation='relu'),\n",
    "            UpSampling2D((2, 2)),\n",
    "            Conv2D(1, (3, 3), activation='sigmoid', padding='same')\n",
    "        ])\n",
    "        \n",
    "    def call(self, inputs):\n",
    "        return self.decoder(inputs)"
   ]
  },
  {
   "cell_type": "code",
   "execution_count": 7,
   "id": "0c16db80",
   "metadata": {
    "ExecuteTime": {
     "end_time": "2022-02-18T23:17:20.393745Z",
     "start_time": "2022-02-18T23:17:20.389936Z"
    }
   },
   "outputs": [],
   "source": [
    "class Autoencoder(Model):\n",
    "    \"\"\"Implements a basic convolutional autoencoder.\"\"\"\n",
    "    def __init__(self, name: str = \"autoencoder\"):\n",
    "        super(Autoencoder, self).__init__(name=name)\n",
    "        self.encoder = Encoder()\n",
    "        self.decoder = Decoder()\n",
    "        \n",
    "\n",
    "    def call(self, inputs: np.ndarray):\n",
    "        encoded = self.encoder(inputs)\n",
    "        decoded = self.decoder(encoded)\n",
    "        return decoded    "
   ]
  },
  {
   "cell_type": "markdown",
   "id": "23feb71c",
   "metadata": {},
   "source": [
    "### Training"
   ]
  },
  {
   "cell_type": "code",
   "execution_count": 8,
   "id": "fb412235",
   "metadata": {
    "ExecuteTime": {
     "end_time": "2022-02-18T23:17:20.400494Z",
     "start_time": "2022-02-18T23:17:20.396124Z"
    }
   },
   "outputs": [],
   "source": [
    "def train_model() -> None: \n",
    "    logdir = os.path.join(\"logs\", datetime.datetime.now().strftime(\"%Y%m%d-%H%M%S\"))\n",
    "    tensorboard_callback = TensorBoard(logdir, histogram_freq=1)\n",
    "\n",
    "    autoencoder = Autoencoder()\n",
    "    autoencoder.compile(optimizer='adam', loss=\"binary_crossentropy\")\n",
    "    autoencoder.fit(x_train, x_train,\n",
    "                    epochs=50,\n",
    "                    batch_size=128,\n",
    "                    shuffle=True,\n",
    "                    validation_data=(x_test, x_test),\n",
    "                    verbose=0,\n",
    "                    callbacks=[EarlyStopping(patience=2), tensorboard_callback]);\n",
    "    return autoencoder"
   ]
  },
  {
   "cell_type": "code",
   "execution_count": 9,
   "id": "95fe3f63",
   "metadata": {
    "ExecuteTime": {
     "end_time": "2022-02-18T23:17:25.446325Z",
     "start_time": "2022-02-18T23:17:20.402168Z"
    }
   },
   "outputs": [
    {
     "data": {
      "text/html": [
       "\n",
       "      <iframe id=\"tensorboard-frame-1509c0bc6692fda5\" width=\"100%\" height=\"800\" frameborder=\"0\">\n",
       "      </iframe>\n",
       "      <script>\n",
       "        (function() {\n",
       "          const frame = document.getElementById(\"tensorboard-frame-1509c0bc6692fda5\");\n",
       "          const url = new URL(\"/\", window.location);\n",
       "          const port = 6006;\n",
       "          if (port) {\n",
       "            url.port = port;\n",
       "          }\n",
       "          frame.src = url;\n",
       "        })();\n",
       "      </script>\n",
       "    "
      ],
      "text/plain": [
       "<IPython.core.display.HTML object>"
      ]
     },
     "metadata": {},
     "output_type": "display_data"
    }
   ],
   "source": [
    "%tensorboard --logdir logs"
   ]
  },
  {
   "cell_type": "code",
   "execution_count": 10,
   "id": "5ecd73c8",
   "metadata": {
    "ExecuteTime": {
     "end_time": "2022-02-18T23:42:28.980873Z",
     "start_time": "2022-02-18T23:17:25.448299Z"
    }
   },
   "outputs": [
    {
     "name": "stderr",
     "output_type": "stream",
     "text": [
      "2022-02-18 20:17:25.463813: I tensorflow/core/platform/cpu_feature_guard.cc:151] This TensorFlow binary is optimized with oneAPI Deep Neural Network Library (oneDNN) to use the following CPU instructions in performance-critical operations:  AVX2 FMA\n",
      "To enable them in other operations, rebuild TensorFlow with the appropriate compiler flags.\n"
     ]
    }
   ],
   "source": [
    "autoencoder = train_model()"
   ]
  },
  {
   "cell_type": "code",
   "execution_count": 11,
   "id": "bfde8ec5",
   "metadata": {
    "ExecuteTime": {
     "end_time": "2022-02-18T23:46:09.218102Z",
     "start_time": "2022-02-18T23:46:09.136279Z"
    }
   },
   "outputs": [
    {
     "name": "stdout",
     "output_type": "stream",
     "text": [
      "Model: \"autoencoder\"\n",
      "_________________________________________________________________\n",
      " Layer (type)                Output Shape              Param #   \n",
      "=================================================================\n",
      " encoder (Encoder)           multiple                  1904      \n",
      "                                                                 \n",
      " decoder (Decoder)           multiple                  2481      \n",
      "                                                                 \n",
      "=================================================================\n",
      "Total params: 4,385\n",
      "Trainable params: 4,385\n",
      "Non-trainable params: 0\n",
      "_________________________________________________________________\n"
     ]
    }
   ],
   "source": [
    "autoencoder.summary()"
   ]
  },
  {
   "cell_type": "code",
   "execution_count": 12,
   "id": "e3e1aeea",
   "metadata": {
    "ExecuteTime": {
     "end_time": "2022-02-18T23:46:14.580230Z",
     "start_time": "2022-02-18T23:46:12.304328Z"
    }
   },
   "outputs": [
    {
     "data": {
      "image/png": "[encoded data removed]",
      "text/plain": [
       "<Figure size 1440x288 with 20 Axes>"
      ]
     },
     "metadata": {
      "needs_background": "light"
     },
     "output_type": "display_data"
    }
   ],
   "source": [
    "decoded_imgs = autoencoder.predict(x_test)\n",
    "plot_figures(x_test, decoded_imgs)"
   ]
  },
  {
   "cell_type": "code",
   "execution_count": 13,
   "id": "80b177bd",
   "metadata": {
    "ExecuteTime": {
     "end_time": "2022-02-18T23:46:17.567735Z",
     "start_time": "2022-02-18T23:46:16.837963Z"
    }
   },
   "outputs": [
    {
     "data": {
      "image/png": "[encoded data removed]",
      "text/plain": [
       "<Figure size 1440x576 with 10 Axes>"
      ]
     },
     "metadata": {
      "needs_background": "light"
     },
     "output_type": "display_data"
    }
   ],
   "source": [
    "encoded_imgs = autoencoder.encoder.predict(x_test)\n",
    "plot_encoded(encoded_imgs)"
   ]
  }
 ],
 "metadata": {
  "kernelspec": {
   "display_name": "Python 3 (ipykernel)",
   "language": "python",
   "name": "python3"
  },
  "language_info": {
   "codemirror_mode": {
    "name": "ipython",
    "version": 3
   },
   "file_extension": ".py",
   "mimetype": "text/x-python",
   "name": "python",
   "nbconvert_exporter": "python",
   "pygments_lexer": "ipython3",
   "version": "3.9.9"
  },
  "toc": {
   "base_numbering": 1,
   "nav_menu": {},
   "number_sections": false,
   "sideBar": true,
   "skip_h1_title": true,
   "title_cell": "Table of Contents",
   "title_sidebar": "Contents",
   "toc_cell": false,
   "toc_position": {},
   "toc_section_display": true,
   "toc_window_display": true
  }
 },
 "nbformat": 4,
 "nbformat_minor": 5
}
