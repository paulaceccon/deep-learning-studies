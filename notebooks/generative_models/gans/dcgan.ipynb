{
  "cells": [
    {
      "cell_type": "markdown",
      "id": "59f502d9",
      "metadata": {
        "id": "59f502d9"
      },
      "source": [
        "### Deep Convolutional GAN\n",
        "\n",
        "#### References\n",
        "- [DCGAN in Keras](https://keras.io/examples/generative/dcgan_overriding_train_step/)\n",
        "- [Advanced-Deep-Learning-with-Python/Chapter05](https://github.com/PacktPublishing/Advanced-Deep-Learning-with-Python/blob/master/Chapter05/dcgan.ipynb)\n",
        "\n",
        "<a href=\"https://colab.research.google.com/github/paulaceccon/deep-learning-studies/blob/main/notebooks/generative_models/gans/dcgan.ipynb\" target=\"_parent\" style=\"float: left;\"><img src=\"https://colab.research.google.com/assets/colab-badge.svg\" alt=\"Open In Colab\"/></a>"
      ]
    },
    {
      "cell_type": "code",
      "execution_count": null,
      "id": "210fb108",
      "metadata": {
        "ExecuteTime": {
          "end_time": "2022-07-07T19:09:31.840864Z",
          "start_time": "2022-07-07T19:09:19.528380Z"
        },
        "id": "210fb108"
      },
      "outputs": [],
      "source": [
        "import datetime\n",
        "import os\n",
        "\n",
        "import matplotlib.pyplot as plt\n",
        "import numpy as np\n",
        "import tensorflow as tf\n",
        "from tensorflow.keras.callbacks import TensorBoard\n",
        "from tensorflow.keras.datasets import mnist\n",
        "from tensorflow.keras.layers import (\n",
        "    BatchNormalization,\n",
        "    Conv2D,\n",
        "    Conv2DTranspose,\n",
        "    Dense,\n",
        "    Dropout,\n",
        "    Input,\n",
        "    LeakyReLU,\n",
        "    Reshape,\n",
        "    Flatten\n",
        ")\n",
        "from tensorflow.keras.losses import BinaryCrossentropy\n",
        "from tensorflow.keras.metrics import Mean\n",
        "from tensorflow.keras.models import Model\n",
        "from tensorflow.keras.optimizers import Adam\n",
        "\n",
        "%load_ext tensorboard"
      ]
    },
    {
      "cell_type": "markdown",
      "id": "1ab4219c",
      "metadata": {
        "id": "1ab4219c"
      },
      "source": [
        "### Load the dataset"
      ]
    },
    {
      "cell_type": "code",
      "execution_count": 12,
      "id": "4eaeb261",
      "metadata": {
        "ExecuteTime": {
          "end_time": "2022-04-01T19:48:14.647361Z",
          "start_time": "2022-04-01T19:48:14.644423Z"
        },
        "id": "4eaeb261"
      },
      "outputs": [],
      "source": [
        "def preprocess(data: np.array) -> np.ndarray:\n",
        "    data = (data.astype(\"float32\") - 127.5) / 127.5\n",
        "    data = np.reshape(data, (len(data), 28, 28, 1))\n",
        "    return data"
      ]
    },
    {
      "cell_type": "code",
      "execution_count": 13,
      "id": "8a6dd7c9",
      "metadata": {
        "ExecuteTime": {
          "end_time": "2022-04-01T19:48:14.939189Z",
          "start_time": "2022-04-01T19:48:14.650847Z"
        },
        "colab": {
          "base_uri": "https://localhost:8080/"
        },
        "id": "8a6dd7c9",
        "outputId": "a3cf106c-f8c5-4a4f-f66c-f056f750650f"
      },
      "outputs": [
        {
          "output_type": "stream",
          "name": "stdout",
          "text": [
            "(60000, 28, 28, 1)\n"
          ]
        }
      ],
      "source": [
        "(x_train, _), _ = mnist.load_data()\n",
        "x_train = preprocess(x_train)\n",
        "\n",
        "print(x_train.shape)"
      ]
    },
    {
      "cell_type": "markdown",
      "id": "fe74d0d9",
      "metadata": {
        "id": "fe74d0d9"
      },
      "source": [
        "### Visualization"
      ]
    },
    {
      "cell_type": "code",
      "execution_count": 14,
      "id": "ba558f98",
      "metadata": {
        "ExecuteTime": {
          "end_time": "2022-04-01T19:48:14.958687Z",
          "start_time": "2022-04-01T19:48:14.954179Z"
        },
        "id": "ba558f98"
      },
      "outputs": [],
      "source": [
        "def plot_generated_images(generator: Model, n_show: int = 10) -> None:\n",
        "    # Display a 2D manifold of the digits\n",
        "    n = 10\n",
        "    digit_size = 28\n",
        "\n",
        "    figure = np.zeros((digit_size * n_show, digit_size * n_show))\n",
        "    latent_dim = generator.input_shape[1]\n",
        "\n",
        "    # n*n random latent distributions\n",
        "    noise = np.random.normal(0, 1, (n_show * n_show, latent_dim))\n",
        "    generated_images = generator.predict(noise)\n",
        "\n",
        "    for i in range(n):\n",
        "        for j in range(n):\n",
        "            slice_i = slice(i * digit_size, (i + 1) * digit_size)\n",
        "            slice_j = slice(j * digit_size, (j + 1) * digit_size)\n",
        "            figure[slice_i, slice_j] = np.reshape(generated_images[i * n + j], (28, 28))\n",
        "\n",
        "    plt.figure(figsize=(10, 10))\n",
        "    plt.axis(\"off\")\n",
        "    plt.imshow(figure, cmap=\"Greys_r\")"
      ]
    },
    {
      "cell_type": "markdown",
      "id": "22b27ed4",
      "metadata": {
        "id": "22b27ed4"
      },
      "source": [
        "### Model"
      ]
    },
    {
      "cell_type": "code",
      "execution_count": 15,
      "id": "1662eb77",
      "metadata": {
        "ExecuteTime": {
          "end_time": "2022-07-07T19:23:20.331860Z",
          "start_time": "2022-07-07T19:23:20.312262Z"
        },
        "id": "1662eb77"
      },
      "outputs": [],
      "source": [
        "def build_generator(latent_dim: int = 256) -> Model:\n",
        "    \"\"\"\n",
        "    Produces 28x28 images.\n",
        "    \"\"\"\n",
        "    generator_inputs = Input(shape=(latent_dim,))\n",
        "    x = Dense(7 * 7 * 256)(generator_inputs)\n",
        "    x = Reshape((7, 7, 256))(x)\n",
        "    x = BatchNormalization()(x)\n",
        "    x = LeakyReLU()(x)\n",
        "    x = Conv2DTranspose(128, kernel_size=(5, 5), strides=(1, 1), padding=\"same\")(x)\n",
        "    x = BatchNormalization()(x)\n",
        "    x = LeakyReLU()(x)\n",
        "    x = Conv2DTranspose(64, kernel_size=(5, 5), strides=(2, 2), padding=\"same\")(x)\n",
        "    x = BatchNormalization()(x)\n",
        "    x = LeakyReLU()(x)\n",
        "    x = Conv2DTranspose(\n",
        "        1, kernel_size=(5, 5), strides=(2, 2), padding=\"same\", activation=\"tanh\"\n",
        "    )(x)\n",
        "    generator = Model(generator_inputs, x, name=\"generator\")\n",
        "    generator.summary()\n",
        "\n",
        "    return generator"
      ]
    },
    {
      "cell_type": "code",
      "execution_count": 16,
      "id": "1a89d7a4",
      "metadata": {
        "id": "1a89d7a4"
      },
      "outputs": [],
      "source": [
        "def build_discriminator() -> Model:\n",
        "    \"\"\"\n",
        "    Classifies images as real or fake.\n",
        "    \"\"\"\n",
        "    discriminator_inputs = Input(shape=(28, 28, 1))\n",
        "    x = Conv2D(filters=64, kernel_size=(5, 5), strides=(2, 2), padding=\"same\")(\n",
        "        discriminator_inputs\n",
        "    )\n",
        "    x = LeakyReLU()(x)\n",
        "    x = Dropout(0.3)(x)\n",
        "    x = Conv2D(filters=128, kernel_size=(5, 5), strides=(2, 2), padding=\"same\")(x)\n",
        "    x = LeakyReLU()(x)\n",
        "    x = Dropout(0.3)(x)\n",
        "    x = Flatten()(x)\n",
        "    x = Dense(1, activation=\"sigmoid\")(x)\n",
        "    discriminator = Model(discriminator_inputs, x)\n",
        "    discriminator.summary()\n",
        "\n",
        "    return discriminator"
      ]
    },
    {
      "cell_type": "code",
      "execution_count": 17,
      "id": "0c16db80",
      "metadata": {
        "ExecuteTime": {
          "end_time": "2022-04-01T19:48:15.181167Z",
          "start_time": "2022-04-01T19:48:15.172488Z"
        },
        "id": "0c16db80"
      },
      "outputs": [],
      "source": [
        "class GAN(Model):\n",
        "    \"\"\"Implements a variational autoencoder.\"\"\"\n",
        "\n",
        "    def __init__(self, generator: Model, discriminator: Model, latent_dim: int):\n",
        "        super().__init__()\n",
        "        self.discriminator = discriminator\n",
        "        self.generator = generator\n",
        "        self.latent_dim = latent_dim\n",
        "\n",
        "    def compile(self, d_optimizer, g_optimizer, loss_fn) -> None:\n",
        "        \"\"\"\n",
        "        Compile the model.\n",
        "\n",
        "        Args:\n",
        "            d_optimizer: discriminator's optimizer.\n",
        "            g_optimizer: generator's optimizer.\n",
        "            loss_fn: loss function.\n",
        "        \"\"\"\n",
        "        super().compile()\n",
        "        self.d_optimizer = d_optimizer\n",
        "        self.g_optimizer = g_optimizer\n",
        "        self.loss_fn = loss_fn\n",
        "        self.d_loss_metric = Mean(name=\"d_loss\")\n",
        "        self.g_loss_metric = Mean(name=\"g_loss\")\n",
        "\n",
        "    @property\n",
        "    def metrics(self) -> list:\n",
        "        return [self.d_loss_metric, self.g_loss_metric]\n",
        "\n",
        "    def train_step(self, real_images) -> dict:\n",
        "        # 1. Train the discriminator\n",
        "        # Sample random points in the latent space\n",
        "        # and decode them to fake images\n",
        "        batch_size = tf.shape(real_images)[0]\n",
        "        random_latent_vectors = tf.random.normal(shape=(batch_size, self.latent_dim))\n",
        "        generated_images = self.generator(random_latent_vectors)\n",
        "\n",
        "        # Combine them with real images\n",
        "        # and create lables\n",
        "        combined_images = tf.concat([generated_images, real_images], axis=0)\n",
        "        labels = tf.concat(\n",
        "            [tf.ones((batch_size, 1)), tf.zeros((batch_size, 1))], axis=0\n",
        "        )\n",
        "\n",
        "        # Add random noise to the labels - important trick!\n",
        "        labels += 0.05 * tf.random.uniform(tf.shape(labels))\n",
        "\n",
        "        with tf.GradientTape() as tape:\n",
        "            predictions = self.discriminator(combined_images)\n",
        "            d_loss = self.loss_fn(labels, predictions)\n",
        "        grads = tape.gradient(d_loss, self.discriminator.trainable_weights)\n",
        "        self.d_optimizer.apply_gradients(\n",
        "            zip(grads, self.discriminator.trainable_weights)\n",
        "        )\n",
        "\n",
        "        # 2. Train the generator\n",
        "        # Sample random points in the latent space\n",
        "        # and a ssemble labels that say \"all real images\"\n",
        "        # (note that we should *not* update the weights of the discriminator)!\n",
        "        random_latent_vectors = tf.random.normal(shape=(batch_size, self.latent_dim))\n",
        "        misleading_labels = tf.zeros((batch_size, 1))\n",
        "\n",
        "        with tf.GradientTape() as tape:\n",
        "            predictions = self.discriminator(self.generator(random_latent_vectors))\n",
        "            g_loss = self.loss_fn(misleading_labels, predictions)\n",
        "        grads = tape.gradient(g_loss, self.generator.trainable_weights)\n",
        "        self.g_optimizer.apply_gradients(zip(grads, self.generator.trainable_weights))\n",
        "\n",
        "        # 3. Update metrics\n",
        "        self.d_loss_metric.update_state(d_loss)\n",
        "        self.g_loss_metric.update_state(g_loss)\n",
        "        return {\n",
        "            \"d_loss\": self.d_loss_metric.result(),\n",
        "            \"g_loss\": self.g_loss_metric.result(),\n",
        "        }"
      ]
    },
    {
      "cell_type": "markdown",
      "id": "23feb71c",
      "metadata": {
        "id": "23feb71c"
      },
      "source": [
        "### Training"
      ]
    },
    {
      "cell_type": "code",
      "execution_count": 18,
      "id": "fb412235",
      "metadata": {
        "ExecuteTime": {
          "end_time": "2022-04-01T19:48:16.210156Z",
          "start_time": "2022-04-01T19:48:16.205987Z"
        },
        "id": "fb412235"
      },
      "outputs": [],
      "source": [
        "def train_model(\n",
        "    train_data: np.ndarray\n",
        ") -> tuple:\n",
        "    logdir = os.path.join(\"logs\", datetime.datetime.now().strftime(\"%Y%m%d-%H%M%S\"))\n",
        "    tensorboard_callback = TensorBoard(logdir, histogram_freq=1)\n",
        "\n",
        "    latent_dim = 256\n",
        "    discriminator = build_discriminator()\n",
        "    generator = build_generator(latent_dim=latent_dim)\n",
        "    gan = GAN(discriminator=discriminator, generator=generator, latent_dim=latent_dim)\n",
        "    gan.compile(\n",
        "        d_optimizer=Adam(learning_rate=0.0001),\n",
        "        g_optimizer=Adam(learning_rate=0.0001),\n",
        "        loss_fn=BinaryCrossentropy(),\n",
        "    )\n",
        "\n",
        "    gan.fit(\n",
        "        train_data,\n",
        "        epochs=100,\n",
        "        batch_size=128,\n",
        "        shuffle=True,\n",
        "        verbose=0,\n",
        "        callbacks=[tensorboard_callback],\n",
        "    )\n",
        "    return gan, discriminator, generator"
      ]
    },
    {
      "cell_type": "code",
      "execution_count": 19,
      "id": "95fe3f63",
      "metadata": {
        "ExecuteTime": {
          "end_time": "2022-04-01T19:48:21.097282Z",
          "start_time": "2022-04-01T19:48:16.534750Z"
        },
        "scrolled": false,
        "colab": {
          "base_uri": "https://localhost:8080/",
          "height": 838
        },
        "id": "95fe3f63",
        "outputId": "d96f254a-c588-4e1c-965f-2d0360be5071"
      },
      "outputs": [
        {
          "output_type": "display_data",
          "data": {
            "text/plain": [
              "Reusing TensorBoard on port 6006 (pid 127), started 0:25:44 ago. (Use '!kill 127' to kill it.)"
            ]
          },
          "metadata": {}
        },
        {
          "output_type": "display_data",
          "data": {
            "text/plain": [
              "<IPython.core.display.Javascript object>"
            ],
            "application/javascript": [
              "\n",
              "        (async () => {\n",
              "            const url = new URL(await google.colab.kernel.proxyPort(6006, {'cache': true}));\n",
              "            url.searchParams.set('tensorboardColab', 'true');\n",
              "            const iframe = document.createElement('iframe');\n",
              "            iframe.src = url;\n",
              "            iframe.setAttribute('width', '100%');\n",
              "            iframe.setAttribute('height', '800');\n",
              "            iframe.setAttribute('frameborder', 0);\n",
              "            document.body.appendChild(iframe);\n",
              "        })();\n",
              "    "
            ]
          },
          "metadata": {}
        }
      ],
      "source": [
        "%tensorboard --logdir logs"
      ]
    },
    {
      "cell_type": "code",
      "execution_count": null,
      "id": "5ecd73c8",
      "metadata": {
        "ExecuteTime": {
          "end_time": "2022-04-01T19:56:47.757817Z",
          "start_time": "2022-04-01T19:48:21.100056Z"
        },
        "scrolled": false,
        "colab": {
          "base_uri": "https://localhost:8080/"
        },
        "id": "5ecd73c8",
        "outputId": "6f9c1746-f72d-4384-8f00-5708e2cd782b"
      },
      "outputs": [
        {
          "output_type": "stream",
          "name": "stdout",
          "text": [
            "Model: \"model\"\n",
            "_________________________________________________________________\n",
            " Layer (type)                Output Shape              Param #   \n",
            "=================================================================\n",
            " input_3 (InputLayer)        [(None, 28, 28, 1)]       0         \n",
            "                                                                 \n",
            " conv2d_2 (Conv2D)           (None, 14, 14, 64)        1664      \n",
            "                                                                 \n",
            " leaky_re_lu_5 (LeakyReLU)   (None, 14, 14, 64)        0         \n",
            "                                                                 \n",
            " dropout_2 (Dropout)         (None, 14, 14, 64)        0         \n",
            "                                                                 \n",
            " conv2d_3 (Conv2D)           (None, 7, 7, 128)         204928    \n",
            "                                                                 \n",
            " leaky_re_lu_6 (LeakyReLU)   (None, 7, 7, 128)         0         \n",
            "                                                                 \n",
            " dropout_3 (Dropout)         (None, 7, 7, 128)         0         \n",
            "                                                                 \n",
            " flatten_1 (Flatten)         (None, 6272)              0         \n",
            "                                                                 \n",
            " dense_2 (Dense)             (None, 1)                 6273      \n",
            "                                                                 \n",
            "=================================================================\n",
            "Total params: 212,865\n",
            "Trainable params: 212,865\n",
            "Non-trainable params: 0\n",
            "_________________________________________________________________\n",
            "Model: \"generator\"\n",
            "_________________________________________________________________\n",
            " Layer (type)                Output Shape              Param #   \n",
            "=================================================================\n",
            " input_4 (InputLayer)        [(None, 256)]             0         \n",
            "                                                                 \n",
            " dense_3 (Dense)             (None, 12544)             3223808   \n",
            "                                                                 \n",
            " reshape_1 (Reshape)         (None, 7, 7, 256)         0         \n",
            "                                                                 \n",
            " batch_normalization_3 (Batc  (None, 7, 7, 256)        1024      \n",
            " hNormalization)                                                 \n",
            "                                                                 \n",
            " leaky_re_lu_7 (LeakyReLU)   (None, 7, 7, 256)         0         \n",
            "                                                                 \n",
            " conv2d_transpose_3 (Conv2DT  (None, 7, 7, 128)        819328    \n",
            " ranspose)                                                       \n",
            "                                                                 \n",
            " batch_normalization_4 (Batc  (None, 7, 7, 128)        512       \n",
            " hNormalization)                                                 \n",
            "                                                                 \n",
            " leaky_re_lu_8 (LeakyReLU)   (None, 7, 7, 128)         0         \n",
            "                                                                 \n",
            " conv2d_transpose_4 (Conv2DT  (None, 14, 14, 64)       204864    \n",
            " ranspose)                                                       \n",
            "                                                                 \n",
            " batch_normalization_5 (Batc  (None, 14, 14, 64)       256       \n",
            " hNormalization)                                                 \n",
            "                                                                 \n",
            " leaky_re_lu_9 (LeakyReLU)   (None, 14, 14, 64)        0         \n",
            "                                                                 \n",
            " conv2d_transpose_5 (Conv2DT  (None, 28, 28, 1)        1601      \n",
            " ranspose)                                                       \n",
            "                                                                 \n",
            "=================================================================\n",
            "Total params: 4,251,393\n",
            "Trainable params: 4,250,497\n",
            "Non-trainable params: 896\n",
            "_________________________________________________________________\n"
          ]
        }
      ],
      "source": [
        "_, _, generator = train_model(x_train)"
      ]
    },
    {
      "cell_type": "code",
      "execution_count": null,
      "id": "80b177bd",
      "metadata": {
        "ExecuteTime": {
          "end_time": "2022-04-01T20:09:38.804838Z",
          "start_time": "2022-04-01T20:09:34.876488Z"
        },
        "id": "80b177bd"
      },
      "outputs": [],
      "source": [
        "plot_generated_images(generator)"
      ]
    }
  ],
  "metadata": {
    "kernelspec": {
      "display_name": "Python 3 (ipykernel)",
      "language": "python",
      "name": "python3"
    },
    "language_info": {
      "codemirror_mode": {
        "name": "ipython",
        "version": 3
      },
      "file_extension": ".py",
      "mimetype": "text/x-python",
      "name": "python",
      "nbconvert_exporter": "python",
      "pygments_lexer": "ipython3",
      "version": "3.9.9"
    },
    "toc": {
      "base_numbering": 1,
      "nav_menu": {},
      "number_sections": false,
      "sideBar": true,
      "skip_h1_title": true,
      "title_cell": "Table of Contents",
      "title_sidebar": "Contents",
      "toc_cell": false,
      "toc_position": {},
      "toc_section_display": true,
      "toc_window_display": true
    },
    "colab": {
      "name": "dcgan.ipynb",
      "provenance": []
    },
    "accelerator": "GPU",
    "gpuClass": "standard"
  },
  "nbformat": 4,
  "nbformat_minor": 5
}